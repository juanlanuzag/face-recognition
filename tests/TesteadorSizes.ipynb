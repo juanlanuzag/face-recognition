{
 "cells": [
  {
   "cell_type": "code",
   "execution_count": 10,
   "metadata": {},
   "outputs": [],
   "source": [
    "import pandas as pd\n",
    "from matplotlib import pyplot as plt\n",
    "from sklearn.metrics import accuracy_score, confusion_matrix,precision_recall_fscore_support\n",
    "import seaborn as sns; sns.set()\n",
    "import utils as u\n",
    "import numpy as np\n",
    "from subprocess import call\n",
    "from PIL import Image\n",
    "import cv2\n",
    "import os\n",
    "#plt.rcParams['figure.figsize'] = (10, 6)"
   ]
  },
  {
   "cell_type": "code",
   "execution_count": 2,
   "metadata": {},
   "outputs": [],
   "source": [
    "if not os.path.exists('expSize'):\n",
    "    os.makedirs('expSize')\n",
    "for i in range(4):\n",
    "    file = open(\"expSize/testFull.in\",\"w+\")\n",
    "    for j in range(41):\n",
    "        for k in range(10):\n",
    "            file.write(\"../assets/ImagenesCarasS/s{}/{}.pgm,\\n\".format(j+1, k+1))\n",
    "    file.close()"
   ]
  },
  {
   "cell_type": "code",
   "execution_count": 3,
   "metadata": {},
   "outputs": [],
   "source": [
    "knn = 3\n",
    "a = 17\n",
    "inpTr = 'catedra/testFullBig.in'\n",
    "inpTe = 'expSize/testFull.in'\n",
    "#inpTt = inpTe\n",
    "out = 'expSize/result{}'"
   ]
  },
  {
   "cell_type": "code",
   "execution_count": 4,
   "metadata": {},
   "outputs": [],
   "source": [
    "# if not os.path.exists('../assets/ImagenesCarasS'):\n",
    "#         os.makedirs('../assets/ImagenesCarasS')\n",
    "# widths = [0, 18, 36, 54, 72, 81, 83, 85, 87, 89, 91]\n",
    "# lengths = [0, 22, 44, 66, 88, 99, 102, 104, 106, 108, 110]\n",
    "# for i in range(len(widths)):\n",
    "#     for j in range(41):\n",
    "#         if not os.path.exists('../assets/ImagenesCarasS/s{}'.format(j+1)):\n",
    "#             os.makedirs('../assets/ImagenesCarasS/s{}'.format(j+1))\n",
    "#         for k in range(10):\n",
    "#             filename = '../assets/ImagenesCaras/s{}/{}.pgm'.format(j+1, k+1)\n",
    "#             img = (plt.imread(filename)).astype(float)\n",
    "#             height, width = img.shape\n",
    "#             res = cv2.resize(img, dsize=(width-widths[i], height-lengths[i]), interpolation=cv2.INTER_CUBIC)\n",
    "#             cv2.imwrite('../assets/ImagenesCarasS/s{}/{}.pgm'.format(j+1, k+1),res)\n",
    "#     call(['../src/main', '-m', '1', '-i', inpTr, '-q', inpTe, '-o', out.format(i), '-knn-k', str(knn), '-alpha', str(a)])"
   ]
  },
  {
   "cell_type": "code",
   "execution_count": 5,
   "metadata": {},
   "outputs": [],
   "source": [
    "if not os.path.exists('../assets/ImagenesCarasS'):\n",
    "        os.makedirs('../assets/ImagenesCarasS')\n",
    "widths = [0, 18, 36, 54, 72, 81, 83, 85, 87, 89, 91]\n",
    "lengths = [0, 22, 44, 66, 88, 99, 102, 104, 106, 108, 110]\n",
    "for i in range(len(widths)):\n",
    "    for j in range(41):\n",
    "        if not os.path.exists('../assets/ImagenesCarasS/s{}'.format(j+1)):\n",
    "            os.makedirs('../assets/ImagenesCarasS/s{}'.format(j+1))\n",
    "        for k in range(10):\n",
    "            filename = '../assets/ImagenesCaras/s{}/{}.pgm'.format(j+1, k+1)\n",
    "            img = (plt.imread(filename)).astype(float)\n",
    "            height, width = img.shape\n",
    "            res = cv2.resize(img, dsize=(width-widths[i], height-lengths[i]), interpolation=cv2.INTER_CUBIC)\n",
    "            res = cv2.resize(res, dsize=(width, height), interpolation=cv2.INTER_CUBIC)\n",
    "            cv2.imwrite('../assets/ImagenesCarasS/s{}/{}.pgm'.format(j+1, k+1),res)\n",
    "    call(['../src/main', '-m', '1', '-i', inpTr, '-q', inpTe, '-o', out.format(i), '-knn-k', str(knn), '-alpha', str(a)])"
   ]
  },
  {
   "cell_type": "markdown",
   "metadata": {},
   "source": [
    "Trabajo con los resultados"
   ]
  },
  {
   "cell_type": "code",
   "execution_count": 2,
   "metadata": {},
   "outputs": [],
   "source": [
    "allVects = []\n",
    "for k in range(11):\n",
    "    i=0\n",
    "    j=-1\n",
    "    file = open(\"expSize/result{}\".format(k),\"r\")\n",
    "    filestr = file.read().split(',\\n')\n",
    "    filevect = []\n",
    "    for i in range(len(filestr)-1):\n",
    "        filevect.append(int(filestr[i]))\n",
    "    allVects.append(filevect)\n",
    "    file.close()"
   ]
  },
  {
   "cell_type": "code",
   "execution_count": 3,
   "metadata": {},
   "outputs": [],
   "source": [
    "expectedVect = []\n",
    "for i in range(41):\n",
    "    for j in range(10):\n",
    "        expectedVect.append(i+1)\n",
    "lab=[i+1 for i in range(41)]"
   ]
  },
  {
   "cell_type": "code",
   "execution_count": 4,
   "metadata": {},
   "outputs": [
    {
     "name": "stderr",
     "output_type": "stream",
     "text": [
      "/usr/local/lib/python3.5/dist-packages/sklearn/metrics/classification.py:1135: UndefinedMetricWarning: Precision and F-score are ill-defined and being set to 0.0 in labels with no predicted samples.\n",
      "  'precision', 'predicted', average, warn_for)\n"
     ]
    }
   ],
   "source": [
    "allPrecs = []\n",
    "for i in range(11):\n",
    "    allPrecs.append(precision_recall_fscore_support(expectedVect, allVects[i], labels=lab)[1])"
   ]
  },
  {
   "cell_type": "code",
   "execution_count": 17,
   "metadata": {},
   "outputs": [
    {
     "data": {
      "image/png": "[encoded data removed]",
      "text/plain": [
       "<Figure size 1440x864 with 1 Axes>"
      ]
     },
     "metadata": {},
     "output_type": "display_data"
    }
   ],
   "source": [
    "plt.bar(lab, allPrecs[0], color='#9749ff', label='92x112')\n",
    "plt.bar(lab, allPrecs[1], color='#4952ff', alpha=0.5, label='92x90')\n",
    "plt.bar(lab, allPrecs[2], color='#49b9ff', alpha=0.5, label='74x68')\n",
    "plt.bar(lab, allPrecs[3], color='#3a997f', alpha=0.5, label='56x46')\n",
    "plt.bar(lab, allPrecs[4], color='#3a994b', alpha=0.5, label='38x24')\n",
    "plt.bar(lab, allPrecs[5], color='#6fce37', alpha=0.5, label='11x13')\n",
    "plt.bar(lab, allPrecs[6], color='#c1d36e', alpha=0.5, label='9x10')\n",
    "plt.bar(lab, allPrecs[7], color='#d3d358', alpha=0.5, label='7x8')\n",
    "plt.bar(lab, allPrecs[8], color='#fcaa53', alpha=0.5, label='5x6')\n",
    "plt.bar(lab, allPrecs[9], color='#f96b6b', alpha=0.5, label='3x4')\n",
    "plt.bar(lab, allPrecs[10], color='#ce4ca1', alpha=0.5, label='1x2')\n",
    "\n",
    "plt.xticks(lab, \n",
    "           ['S{}'.format(i+1) for i in range(41)] )\n",
    "\n",
    "plt.legend()\n",
    "plt.figsize = (10, 6)\n",
    "\n",
    "plt.show()"
   ]
  },
  {
   "cell_type": "code",
   "execution_count": null,
   "metadata": {},
   "outputs": [],
   "source": []
  }
 ],
 "metadata": {
  "kernelspec": {
   "display_name": "Python 3",
   "language": "python",
   "name": "python3"
  },
  "language_info": {
   "codemirror_mode": {
    "name": "ipython",
    "version": 3
   },
   "file_extension": ".py",
   "mimetype": "text/x-python",
   "name": "python",
   "nbconvert_exporter": "python",
   "pygments_lexer": "ipython3",
   "version": "3.5.2"
  }
 },
 "nbformat": 4,
 "nbformat_minor": 2
}
