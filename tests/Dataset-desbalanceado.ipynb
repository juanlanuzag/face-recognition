{
 "cells": [
  {
   "cell_type": "code",
   "execution_count": 47,
   "metadata": {
    "collapsed": true
   },
   "outputs": [],
   "source": [
    "import pandas as pd\n",
    "from matplotlib import pyplot as plt\n",
    "from sklearn.metrics import accuracy_score, confusion_matrix, precision_score, recall_score\n",
    "import seaborn as sns; sns.set()\n",
    "import utils\n",
    "import numpy as np\n",
    "from subprocess import call\n",
    "from subprocess import call, check_output\n",
    "from io import StringIO\n",
    "plt.rcParams['figure.figsize'] = (10, 6)"
   ]
  },
  {
   "cell_type": "code",
   "execution_count": 53,
   "metadata": {},
   "outputs": [],
   "source": [
    "result=pd.read_csv('nuestros/ImagenesCarasDesbalance.resultado', header=None)[1]\n",
    "expected=pd.read_csv('nuestros/ImagenesCarasDesbalance.expected', header=None)[0]"
   ]
  },
  {
   "cell_type": "code",
   "execution_count": 61,
   "metadata": {},
   "outputs": [
    {
     "name": "stdout",
     "output_type": "stream",
     "text": [
      "[ 0.5  1.   1.   1.   1.   1.   1.   1.   1.   0.5  1.   1.   1.   1.   1.\n",
      "  1.   1.   1.   1.   1.   1.   1.   1.   1.   0.5  1.   1.   0.5  1.   1.\n",
      "  1.   1.   1.   1.   0.   0.5  1.   1.   1.   0.5  1. ]\n",
      "[ 1.          1.          0.4         1.          0.66666667  1.          1.\n",
      "  1.          1.          1.          1.          0.66666667  1.          1.\n",
      "  1.          1.          0.66666667  1.          1.          1.          1.\n",
      "  1.          1.          1.          0.5         0.5         1.          1.\n",
      "  1.          1.          1.          1.          1.          1.          0.\n",
      "  1.          0.66666667  1.          1.          0.5         1.        ]\n",
      "0.875\n"
     ]
    }
   ],
   "source": [
    "print(precision_score(result,expected, average=None))\n",
    "print(recall_score(result, expected, average=None))\n",
    "print(accuracy_score(result, expected))"
   ]
  },
  {
   "cell_type": "code",
   "execution_count": 59,
   "metadata": {
    "collapsed": true
   },
   "outputs": [],
   "source": [
    "result2=pd.read_csv('nuestros/ImagenesCarasDesbalance.resultado2', header=None)[1]\n",
    "expected2=pd.read_csv('nuestros/ImagenesCarasDesbalance.expected2', header=None)[0]"
   ]
  },
  {
   "cell_type": "code",
   "execution_count": 62,
   "metadata": {},
   "outputs": [
    {
     "name": "stdout",
     "output_type": "stream",
     "text": [
      "[ 1.     1.     0.75   0.75   0.375  1.     0.875  0.875  1.     0.375\n",
      "  0.75   0.625  1.     0.75   0.625  0.5    0.375  0.75   0.875  0.875  1.\n",
      "  1.     0.375  0.875  1.     0.5    0.375  0.375  0.625  0.75   0.625  1.\n",
      "  0.875  1.     0.5    0.5    0.125  0.75   0.625  0.375  0.5  ]\n",
      "[ 1.          0.57142857  0.75        0.85714286  0.375       1.\n",
      "  0.63636364  1.          0.88888889  1.          1.          1.\n",
      "  0.72727273  0.66666667  0.5         0.57142857  1.          0.85714286\n",
      "  0.46666667  1.          0.57142857  0.72727273  0.6         1.\n",
      "  0.57142857  0.66666667  0.5         0.42857143  1.          1.          1.\n",
      "  0.88888889  0.875       1.          1.          0.57142857  0.2         0.375\n",
      "  0.83333333  0.3         0.66666667]\n",
      "0.698757763975\n"
     ]
    }
   ],
   "source": [
    "print(precision_score(result2,expected2, average=None))\n",
    "print(recall_score(result2, expected2, average=None))\n",
    "print(accuracy_score(result2, expected2))"
   ]
  },
  {
   "cell_type": "code",
   "execution_count": 58,
   "metadata": {},
   "outputs": [
    {
     "data": {
      "text/plain": [
       "0      ../assets/ImagenesCaras/s3.pgm\n",
       "1                                   1\n",
       "2                                  10\n",
       "3                                  10\n",
       "4                                  10\n",
       "5                                  10\n",
       "6                                  10\n",
       "7                                  10\n",
       "8                                  10\n",
       "9                                  10\n",
       "10                                 11\n",
       "11                                 11\n",
       "12                                 11\n",
       "13                                 11\n",
       "14                                 11\n",
       "15                                 11\n",
       "16                                 11\n",
       "17                                 11\n",
       "18                                 12\n",
       "19                                 12\n",
       "20                                 12\n",
       "21                                 12\n",
       "22                                 12\n",
       "23                                 12\n",
       "24                                 12\n",
       "25                                 12\n",
       "26                                 13\n",
       "27                                 13\n",
       "28                                 13\n",
       "29                                 13\n",
       "                    ...              \n",
       "292                                 6\n",
       "293                                 6\n",
       "294                                 6\n",
       "295                                 6\n",
       "296                                 6\n",
       "297                                 6\n",
       "298                                 7\n",
       "299                                 7\n",
       "300                                 7\n",
       "301                                 7\n",
       "302                                 7\n",
       "303                                 7\n",
       "304                                 7\n",
       "305                                 7\n",
       "306                                 8\n",
       "307                                 8\n",
       "308                                 8\n",
       "309                                 8\n",
       "310                                 8\n",
       "311                                 8\n",
       "312                                 8\n",
       "313                                 8\n",
       "314                                 9\n",
       "315                                 9\n",
       "316                                 9\n",
       "317                                 9\n",
       "318                                 9\n",
       "319                                 9\n",
       "320                                 9\n",
       "321                                 9\n",
       "Name: 0, Length: 322, dtype: object"
      ]
     },
     "execution_count": 58,
     "metadata": {},
     "output_type": "execute_result"
    }
   ],
   "source": []
  }
 ],
 "metadata": {
  "kernelspec": {
   "display_name": "Python 2",
   "language": "python",
   "name": "python2"
  },
  "language_info": {
   "codemirror_mode": {
    "name": "ipython",
    "version": 2
   },
   "file_extension": ".py",
   "mimetype": "text/x-python",
   "name": "python",
   "nbconvert_exporter": "python",
   "pygments_lexer": "ipython2",
   "version": "2.7.12"
  }
 },
 "nbformat": 4,
 "nbformat_minor": 2
}
