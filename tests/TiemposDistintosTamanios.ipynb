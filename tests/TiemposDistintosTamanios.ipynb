{
 "cells": [
  {
   "cell_type": "code",
   "execution_count": 4,
   "metadata": {
    "collapsed": true
   },
   "outputs": [],
   "source": [
    "import pandas as pd\n",
    "from matplotlib import pyplot as plt\n",
    "from sklearn.metrics import accuracy_score, confusion_matrix\n",
    "import seaborn as sns; sns.set()\n",
    "import utils\n",
    "import numpy as np\n",
    "from subprocess import call, check_output\n",
    "import pickle"
   ]
  },
  {
   "cell_type": "code",
   "execution_count": 7,
   "metadata": {},
   "outputs": [],
   "source": [
    "with open('tiemposknntamanios.pkl', 'rb') as f:\n",
    "    time_mesurements = pickle.load(f)\n",
    "time_mesurements\n",
    "tiempos = [time_mesurements[0],time_mesurements[1],time_mesurements[4]]"
   ]
  },
  {
   "cell_type": "code",
   "execution_count": 9,
   "metadata": {},
   "outputs": [
    {
     "name": "stdout",
     "output_type": "stream",
     "text": [
      "0.738862 (92, 112) 10304\n",
      "2.91579 (184, 224) 41216\n",
      "18.3688 (460, 560) 257600\n"
     ]
    }
   ],
   "source": [
    "carpetas = ['ImagenesCaras', 'ImagenesX2', 'ImagenesX3', 'ImagenesX4', 'ImagenesX5', 'ImagenesX6']\n",
    "dimensiones = [(92,112), (184, 224), (460, 560)]\n",
    "\n",
    "for i in range(len(dimensiones)):\n",
    "    print(tiempos[i], dimensiones[i], dimensiones[i][0] * dimensiones[i][1])"
   ]
  }
 ],
 "metadata": {
  "kernelspec": {
   "display_name": "Python 3",
   "language": "python",
   "name": "python3"
  },
  "language_info": {
   "codemirror_mode": {
    "name": "ipython",
    "version": 3
   },
   "file_extension": ".py",
   "mimetype": "text/x-python",
   "name": "python",
   "nbconvert_exporter": "python",
   "pygments_lexer": "ipython3",
   "version": "3.5.2"
  }
 },
 "nbformat": 4,
 "nbformat_minor": 2
}
