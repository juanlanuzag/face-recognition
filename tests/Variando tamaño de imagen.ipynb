{
 "cells": [
  {
   "cell_type": "code",
   "execution_count": 1,
   "metadata": {
    "collapsed": true
   },
   "outputs": [],
   "source": [
    "from PIL import Image\n",
    "import numpy as np\n",
    "import matplotlib.pyplot as plt\n",
    "from mpl_toolkits.mplot3d import Axes3D\n",
    "import seaborn as sns\n",
    "import os\n",
    "plt.rcParams['figure.figsize'] = (17,15)"
   ]
  },
  {
   "cell_type": "code",
   "execution_count": 2,
   "metadata": {
    "collapsed": true,
    "scrolled": true
   },
   "outputs": [],
   "source": [
    "N_SUJETOS = range(1, 42)\n",
    "N_FOTOS = range(1, 11)\n",
    "base_dir = '../assets/'\n",
    "SCALES = range(2,11)"
   ]
  },
  {
   "cell_type": "code",
   "execution_count": 3,
   "metadata": {
    "scrolled": true
   },
   "outputs": [],
   "source": [
    "for scale in SCALES:\n",
    "    for sujeto in N_SUJETOS:\n",
    "        if not os.path.exists(base_dir + 'ImagenesX{}/s{}/'.format(scale, sujeto)):\n",
    "            os.makedirs(base_dir+ 'ImagenesX{}/s{}/'.format(scale,sujeto))\n",
    "\n",
    "        for foto in N_FOTOS:\n",
    "            new_size = (92 * scale, 112 * scale)\n",
    "            outdir = base_dir + 'ImagenesX{}/s{}/{}.pgm'.format(scale, sujeto, foto)\n",
    "            im = Image.open(base_dir + 'ImagenesCaras/s{}/{}.pgm'.format(sujeto, foto))\n",
    "            img = im.resize(new_size)\n",
    "            img.save(outdir)"
   ]
  },
  {
   "cell_type": "code",
   "execution_count": 31,
   "metadata": {},
   "outputs": [
    {
     "name": "stdout",
     "output_type": "stream",
     "text": [
      "(2, 2)\n"
     ]
    }
   ],
   "source": []
  }
 ],
 "metadata": {
  "kernelspec": {
   "display_name": "Python 3",
   "language": "python",
   "name": "python3"
  },
  "language_info": {
   "codemirror_mode": {
    "name": "ipython",
    "version": 3
   },
   "file_extension": ".py",
   "mimetype": "text/x-python",
   "name": "python",
   "nbconvert_exporter": "python",
   "pygments_lexer": "ipython3",
   "version": "3.5.2"
  }
 },
 "nbformat": 4,
 "nbformat_minor": 2
}
