{
 "cells": [
  {
   "cell_type": "code",
   "execution_count": 17,
   "metadata": {},
   "outputs": [],
   "source": [
    "import pandas as pd\n",
    "from matplotlib import pyplot as plt\n",
    "from sklearn.metrics import accuracy_score, confusion_matrix, precision_recall_fscore_support\n",
    "import seaborn as sns; sns.set()\n",
    "import utils as u\n",
    "import numpy as np\n",
    "from subprocess import call\n",
    "from PIL import Image\n",
    "from cv2 import imwrite\n",
    "import os"
   ]
  },
  {
   "cell_type": "markdown",
   "metadata": {},
   "source": [
    "Creo los Datasets"
   ]
  },
  {
   "cell_type": "code",
   "execution_count": 9,
   "metadata": {},
   "outputs": [],
   "source": [
    "for i in range (10):\n",
    "    if not os.path.exists('../assets/ImagenesCarasR{}'.format(i+1)):\n",
    "        os.makedirs('../assets/ImagenesCarasR{}'.format(i+1))\n",
    "    for j in range(41):\n",
    "        if not os.path.exists('../assets/ImagenesCarasR{}/s{}'.format(i+1, j+1)):\n",
    "            os.makedirs('../assets/ImagenesCarasR{}/s{}'.format(i+1, j+1))\n",
    "        for k in range(10):\n",
    "            filename = '../assets/ImagenesCaras/s{}/{}.pgm'.format(j+1, k+1)\n",
    "            imagea = (plt.imread(filename)).astype(float)\n",
    "            poissonNoise = np.random.poisson(15*(i+1),imagea.shape).astype(float)\n",
    "            poissonNoise2 = []\n",
    "            for fil in range(len(poissonNoise)):\n",
    "                poissonNoise2.append([])\n",
    "                for pos in range(len(poissonNoise[fil])):\n",
    "                    poissonNoise2[fil].append(int(poissonNoise[fil][pos]*(np.random.choice([1, -1]))))\n",
    "            noisyImage = imagea + poissonNoise2\n",
    "            imwrite('../assets/ImagenesCarasR{}/s{}/{}.pgm'.format(i+1, j+1, k+1),noisyImage)\n",
    "if not os.path.exists('../assets/ImagenesCarasR4'):\n",
    "        os.makedirs('../assets/ImagenesCarasR4')\n",
    "# for j in range(41):\n",
    "#     if not os.path.exists('../assets/ImagenesCarasR10/s{}'.format(j+1)):\n",
    "#         os.makedirs('../assets/ImagenesCarasR10/s{}'.format(j+1))\n",
    "#     for k in range(10):\n",
    "#         filename = '../assets/ImagenesCaras/s{}/{}.pgm'.format(j+1, k+1)\n",
    "#         imagea = (plt.imread(filename)).astype(float)\n",
    "#         poissonNoise = np.random.poisson(15*k,imagea.shape).astype(float)\n",
    "#         poissonNoise2 = []\n",
    "#         for fil in range(len(poissonNoise)):\n",
    "#             poissonNoise2.append([])\n",
    "#             for pos in range(len(poissonNoise[fil])):\n",
    "#                 poissonNoise2[fil].append(int(poissonNoise[fil][pos]*(np.random.choice([1, -1]))))\n",
    "#         noisyImage = imagea + poissonNoise2\n",
    "#         imwrite('../assets/ImagenesCarasR10/s{}/{}.pgm'.format(j+1, k+1),noisyImage)"
   ]
  },
  {
   "cell_type": "markdown",
   "metadata": {},
   "source": [
    "Creo Inputs"
   ]
  },
  {
   "cell_type": "code",
   "execution_count": 10,
   "metadata": {},
   "outputs": [],
   "source": [
    "# if not os.path.exists('expRuido'):\n",
    "#     os.makedirs('expRuido')\n",
    "# for i in range(4):\n",
    "#     file = open(\"expRuido/testFull{}.in\".format(i+1),\"w+\")\n",
    "#     for j in range(41):\n",
    "#         for k in range(10):\n",
    "#             file.write(\"../assets/ImagenesCarasR{}/s{}/{}.pgm, {},\\n\".format(i+1, j+1, k+1, j+1))\n",
    "#     file.close()\n",
    "    \n",
    "if not os.path.exists('expRuido'):\n",
    "    os.makedirs('expRuido')\n",
    "for i in range(10):\n",
    "    file = open(\"expRuido/testFull{}.in\".format(i+1),\"w+\")\n",
    "    for j in range(41):\n",
    "        for k in range(10):\n",
    "            file.write(\"../assets/ImagenesCarasR{}/s{}/{}.pgm,\\n\".format(i+1, j+1, k+1))\n",
    "    file.close()"
   ]
  },
  {
   "cell_type": "markdown",
   "metadata": {},
   "source": [
    "Preparo valores y hago el call"
   ]
  },
  {
   "cell_type": "code",
   "execution_count": 39,
   "metadata": {},
   "outputs": [],
   "source": [
    "# knn = 3\n",
    "# a = 17\n",
    "# kfolds = 10\n",
    "# inp = ['catedra/testFullBig.in', 'expRuido/testFull1.in', 'expRuido/testFull2.in', 'expRuido/testFull3.in', 'expRuido/testFull4.in']\n",
    "# for i in range(5):\n",
    "#     if not os.path.exists('expRuido/r{}'.format(i)):\n",
    "#         os.makedirs('expRuido/r{}'.format(i))\n",
    "# out = 'expRuido/r{}/result'\n",
    "# for i in range(4):\n",
    "#     call(['../src/main', '-m', '3', '-i', inp[i+1],'-o', out.format(i+1), '-knn-k', str(knn), '-alpha', str(a), '-k-folds', str(kfolds)])"
   ]
  },
  {
   "cell_type": "code",
   "execution_count": 12,
   "metadata": {},
   "outputs": [],
   "source": [
    "knn = 3\n",
    "a = 17\n",
    "train = 'catedra/testFullBig.in'\n",
    "test = ['catedra/testFullBig.in']\n",
    "for i in range(10):\n",
    "    test.append('expRuido/testFull{}.in'.format(i))\n",
    "out = 'expRuido/result{}'\n",
    "for i in range(11):\n",
    "    call(['../src/main', '-m', '1', '-i', train, '-q', test[i], '-o', out.format(i), '-knn-k', str(knn), '-alpha', str(a)])"
   ]
  },
  {
   "cell_type": "markdown",
   "metadata": {},
   "source": [
    "Levanto y trabajo con los resltados"
   ]
  },
  {
   "cell_type": "code",
   "execution_count": 83,
   "metadata": {},
   "outputs": [],
   "source": [
    "# vecTod=[[] for i in range(5)]\n",
    "# vecExp=[[] for i in range(5)]\n",
    "# for k in range(5):\n",
    "#     i=0\n",
    "#     j=-1\n",
    "#     file = open(\"expRuido/r{}/result.conf\".format(k),\"r\")\n",
    "#     filelist=list(file)\n",
    "#     for line in range(len(filelist)):\n",
    "#         filevect = str.split(filelist[line])\n",
    "#         if (len(filevect)<41):\n",
    "#             continue\n",
    "#         else:\n",
    "#             if(i % 41 == 0):\n",
    "#                 vecTod[k].append([])\n",
    "#                 vecExp[k].append([])\n",
    "#                 j+=1\n",
    "#             i+=1\n",
    "#             for pos in range(len(filevect)):\n",
    "#                 for value in range(int(filevect[pos])):\n",
    "#                     vecTod[k][j].append(pos+1)\n",
    "#                     exp = (line % 41)\n",
    "#                     if(exp==0):\n",
    "#                         exp=41\n",
    "#                     vecExp[k][j].append(exp)\n",
    "#     file.close()"
   ]
  },
  {
   "cell_type": "code",
   "execution_count": 30,
   "metadata": {},
   "outputs": [
    {
     "name": "stderr",
     "output_type": "stream",
     "text": [
      "/usr/local/lib/python3.5/dist-packages/sklearn/metrics/classification.py:1135: UndefinedMetricWarning: Precision and F-score are ill-defined and being set to 0.0 in labels with no predicted samples.\n",
      "  'precision', 'predicted', average, warn_for)\n"
     ]
    }
   ],
   "source": [
    "allVects = []\n",
    "for k in range(11):\n",
    "    i=0\n",
    "    j=-1\n",
    "    file = open(\"expRuido/result{}\".format(k),\"r\")\n",
    "    filestr = file.read().split(',\\n')\n",
    "    filevect = []\n",
    "    for i in range(len(filestr)-1):\n",
    "        filevect.append(int(filestr[i]))\n",
    "    allVects.append(filevect)\n",
    "    file.close()\n",
    "expectedVect = []\n",
    "for i in range(41):\n",
    "    for j in range(10):\n",
    "        expectedVect.append(i+1)\n",
    "lab=[i+1 for i in range(41)]\n",
    "allPrecs = []\n",
    "for i in range(11):\n",
    "    allPrecs.append(precision_recall_fscore_support(expectedVect, allVects[i], labels=lab)[1])"
   ]
  },
  {
   "cell_type": "code",
   "execution_count": 33,
   "metadata": {
    "scrolled": false
   },
   "outputs": [
    {
     "data": {
      "image/png": "[encoded data removed]",
      "text/plain": [
       "<Figure size 1440x864 with 1 Axes>"
      ]
     },
     "metadata": {},
     "output_type": "display_data"
    }
   ],
   "source": [
    "plt.bar(lab, allPrecs[0], color='#9749ff', label='Ruido Nivel 0')\n",
    "plt.bar(lab, allPrecs[1], color='#4952ff', alpha=0.5, label='Ruido Nivel 1')\n",
    "plt.bar(lab, allPrecs[2], color='#49b9ff', alpha=0.5, label='Ruido Nivel 2')\n",
    "plt.bar(lab, allPrecs[3], color='#3a997f', alpha=0.5, label='Ruido Nivel 3')\n",
    "plt.bar(lab, allPrecs[4], color='#3a994b', alpha=0.5, label='Ruido Nivel 4')\n",
    "plt.bar(lab, allPrecs[5], color='#6fce37', alpha=0.5, label='Ruido Nivel 5')\n",
    "plt.bar(lab, allPrecs[6], color='#c1d36e', alpha=0.5, label='Ruido Nivel 6')\n",
    "plt.bar(lab, allPrecs[7], color='#d3d358', alpha=0.5, label='Ruido Nivel 7')\n",
    "plt.bar(lab, allPrecs[8], color='#fcaa53', alpha=0.5, label='Ruido Nivel 8')\n",
    "plt.bar(lab, allPrecs[9], color='#f96b6b', alpha=0.5, label='Ruido Nivel 9')\n",
    "plt.bar(lab, allPrecs[10], color='#ce4ca1', alpha=0.5, label='Ruido Nivel 10')\n",
    "\n",
    "plt.xticks(lab, \n",
    "           ['S{}'.format(i+1) for i in range(41)] )\n",
    "\n",
    "plt.legend()\n",
    "\n",
    "plt.rcParams['figure.figsize'] = (30, 18)\n",
    "\n",
    "plt.show()"
   ]
  },
  {
   "cell_type": "code",
   "execution_count": null,
   "metadata": {},
   "outputs": [],
   "source": []
  }
 ],
 "metadata": {
  "kernelspec": {
   "display_name": "Python 3",
   "language": "python",
   "name": "python3"
  },
  "language_info": {
   "codemirror_mode": {
    "name": "ipython",
    "version": 3
   },
   "file_extension": ".py",
   "mimetype": "text/x-python",
   "name": "python",
   "nbconvert_exporter": "python",
   "pygments_lexer": "ipython3",
   "version": "3.5.2"
  }
 },
 "nbformat": 4,
 "nbformat_minor": 2
}
